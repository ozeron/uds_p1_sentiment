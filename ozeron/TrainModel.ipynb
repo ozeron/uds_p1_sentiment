{
 "cells": [
  {
   "cell_type": "code",
   "execution_count": 234,
   "metadata": {
    "collapsed": false
   },
   "outputs": [
    {
     "name": "stdout",
     "output_type": "stream",
     "text": [
      "The autoreload extension is already loaded. To reload it, use:\n",
      "  %reload_ext autoreload\n"
     ]
    }
   ],
   "source": [
    "%load_ext autoreload\n",
    "%autoreload 2\n",
    "import pandas as pd\n",
    "import re\n",
    "from sklearn.feature_extraction.text import CountVectorizer\n",
    "from sklearn.feature_extraction.text import TfidfTransformer\n",
    "\n",
    "from sklearn.linear_model import LogisticRegression\n",
    "from sklearn.externals import joblib\n",
    "\n",
    "from sklearn.pipeline import Pipeline, FeatureUnion\n",
    "\n",
    "from pipeline.text_cleaner import TextCleaner\n",
    "from pipeline.stemmer import Stemmer\n",
    "from pipeline.dataframe_vectorizer import DataframeVectorizer\n",
    "\n",
    "from utils import dump_model, load_and_split, other_name, load_and_split_quick\n",
    "\n",
    "from sklearn import metrics\n",
    "import pickle\n",
    "import datetime"
   ]
  },
  {
   "cell_type": "code",
   "execution_count": 224,
   "metadata": {
    "collapsed": true
   },
   "outputs": [],
   "source": [
    "#global\n",
    "DataPipeline = Pipeline(steps=[\n",
    "        ('clean_words', TextCleaner(key='text')),\n",
    "        ('stem', Stemmer()),\n",
    "        ('vectorize', DataframeVectorizer(vectorizer=CountVectorizer()))])\n",
    "#global\n",
    "FastDataPipeline = Pipeline(steps=[('vectorize', DataframeVectorizer(vectorizer=CountVectorizer()))])"
   ]
  },
  {
   "cell_type": "code",
   "execution_count": 225,
   "metadata": {
    "collapsed": true
   },
   "outputs": [],
   "source": [
    "#global\n",
    "LearningPipeline = Pipeline(steps=[\n",
    "    ('logistic', LogisticRegression())\n",
    "])"
   ]
  },
  {
   "cell_type": "code",
   "execution_count": null,
   "metadata": {
    "collapsed": true
   },
   "outputs": [],
   "source": []
  },
  {
   "cell_type": "code",
   "execution_count": 226,
   "metadata": {
    "collapsed": false
   },
   "outputs": [],
   "source": [
    "def dump_models(name, f1_score, time_mark,\n",
    "                data_pipeline=DataPipeline,\n",
    "                learn_pipeline=LearningPipeline):\n",
    "    path = '../dumps/history/%s__%s__%s__' % (name, time_mark, f1_score)\n",
    "    dump_model(path + 'data.bin', data_pipeline)\n",
    "    dump_model(path + 'learn.bin', learn_pipeline) \n",
    "    path = '../dumps/%s__' % (name)\n",
    "    dump_model(path + 'data.bin', data_pipeline)\n",
    "    dump_model(path + 'learn.bin', learn_pipeline) "
   ]
  },
  {
   "cell_type": "code",
   "execution_count": 240,
   "metadata": {
    "collapsed": true
   },
   "outputs": [],
   "source": [
    "def store_results(name, y, predicted, \n",
    "                  data_pipeline=DataPipeline,\n",
    "                  learn_pipeline=LearningPipeline):\n",
    "    acc = round(metrics.accuracy_score(y, predicted), 5)\n",
    "    \n",
    "    dt=datetime.datetime.now()\n",
    "    time_mark = dt.strftime('%Y%m%d%H%M')\n",
    "\n",
    "    dump_models(name, acc, time_mark, \n",
    "                data_pipeline=data_pipeline,\n",
    "                learn_pipeline=learn_pipeline)"
   ]
  },
  {
   "cell_type": "code",
   "execution_count": 228,
   "metadata": {
    "collapsed": true
   },
   "outputs": [],
   "source": [
    "def calculate_other_performance(name):\n",
    "    other_dataset = other_name(name)\n",
    "    X_train, X_test, y_train, y_test = load_and_split(other_dataset)\n",
    "    calculate_performance(name, other_dataset, X_test, y_test)"
   ]
  },
  {
   "cell_type": "code",
   "execution_count": 241,
   "metadata": {
    "collapsed": false
   },
   "outputs": [],
   "source": [
    "def calculate_performance(trained, testing, X, y,\n",
    "                         data_pipeline=DataPipeline,\n",
    "                         learn_pipeline=LearningPipeline):\n",
    "    X_processed = data_pipeline.transform(X)\n",
    "    predicted = learn_pipeline.predict(X_processed)\n",
    "    print('Performance %s on %s' % (trained, testing))\n",
    "    print(metrics.classification_report(y, predicted))\n",
    "    print('Accuracy: ', metrics.accuracy_score(y, predicted))\n",
    "    return predicted"
   ]
  },
  {
   "cell_type": "code",
   "execution_count": 230,
   "metadata": {
    "collapsed": false
   },
   "outputs": [],
   "source": [
    "def train(name, quick_mode=False):\n",
    "    data_pipeline = DataPipeline\n",
    "    suffix = ''\n",
    "    if quick_mode:\n",
    "        data_pipeline = FastDataPipeline\n",
    "        X_train, X_test, y_train, y_test = load_and_split_quick(name)\n",
    "        sufix = '-quick'\n",
    "    else:\n",
    "        X_train, X_test, y_train, y_test = load_and_split(name)\n",
    "    \n",
    "    \n",
    "    X_after_processing = data_pipeline.fit_transform(X_train)\n",
    "    print(\"Data processed!\")\n",
    "    \n",
    "    LearningPipeline.fit(X_after_processing, y_train)\n",
    "    print(\"Models trained!\")\n",
    "    \n",
    "    predicted = calculate_performance(name, name, X_test, y_test,\n",
    "                                     data_pipeline=data_pipeline)\n",
    "    store_results(name + suffix, y_test, predicted, \n",
    "                  data_pipeline=data_pipeline)\n",
    "    calculate_other_performance(name)\n",
    "    \n",
    "    \n",
    "    "
   ]
  },
  {
   "cell_type": "code",
   "execution_count": null,
   "metadata": {
    "collapsed": false
   },
   "outputs": [],
   "source": []
  },
  {
   "cell_type": "code",
   "execution_count": 238,
   "metadata": {
    "collapsed": false
   },
   "outputs": [
    {
     "name": "stdout",
     "output_type": "stream",
     "text": [
      "Data processed!\n",
      "Models trained!\n",
      "Performance reviews_rt_all on reviews_rt_all\n",
      "             precision    recall  f1-score   support\n",
      "\n",
      "          0       0.73      0.66      0.69      7590\n",
      "          1       0.81      0.86      0.83     12932\n",
      "\n",
      "avg / total       0.78      0.79      0.78     20522\n",
      "\n",
      "Performance reviews_rt_all on imdb_small\n",
      "             precision    recall  f1-score   support\n",
      "\n",
      "          0       0.80      0.91      0.85      5000\n",
      "          1       0.89      0.78      0.83      5000\n",
      "\n",
      "avg / total       0.85      0.84      0.84     10000\n",
      "\n"
     ]
    }
   ],
   "source": [
    "train('reviews_rt_all')"
   ]
  },
  {
   "cell_type": "code",
   "execution_count": 239,
   "metadata": {
    "collapsed": false
   },
   "outputs": [
    {
     "name": "stdout",
     "output_type": "stream",
     "text": [
      "Data processed!\n",
      "Models trained!\n",
      "Performance imdb_small on imdb_small\n",
      "             precision    recall  f1-score   support\n",
      "\n",
      "          0       0.89      0.88      0.89      5000\n",
      "          1       0.88      0.89      0.89      5000\n",
      "\n",
      "avg / total       0.89      0.89      0.89     10000\n",
      "\n",
      "Performance imdb_small on reviews_rt_all\n",
      "             precision    recall  f1-score   support\n",
      "\n",
      "          0       0.60      0.63      0.61      7590\n",
      "          1       0.78      0.75      0.76     12932\n",
      "\n",
      "avg / total       0.71      0.71      0.71     20522\n",
      "\n"
     ]
    }
   ],
   "source": [
    "train('imdb_small')"
   ]
  },
  {
   "cell_type": "code",
   "execution_count": 210,
   "metadata": {
    "collapsed": true
   },
   "outputs": [],
   "source": []
  }
 ],
 "metadata": {
  "kernelspec": {
   "display_name": "Python 3",
   "language": "python",
   "name": "python3"
  },
  "language_info": {
   "codemirror_mode": {
    "name": "ipython",
    "version": 3
   },
   "file_extension": ".py",
   "mimetype": "text/x-python",
   "name": "python",
   "nbconvert_exporter": "python",
   "pygments_lexer": "ipython3",
   "version": "3.6.0"
  }
 },
 "nbformat": 4,
 "nbformat_minor": 2
}
