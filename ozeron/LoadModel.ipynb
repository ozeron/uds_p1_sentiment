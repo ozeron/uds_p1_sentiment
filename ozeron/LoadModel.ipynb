{
 "cells": [
  {
   "cell_type": "code",
   "execution_count": 69,
   "metadata": {
    "collapsed": false
   },
   "outputs": [
    {
     "name": "stdout",
     "output_type": "stream",
     "text": [
      "The autoreload extension is already loaded. To reload it, use:\n",
      "  %reload_ext autoreload\n"
     ]
    }
   ],
   "source": [
    "%load_ext autoreload\n",
    "%autoreload 2\n",
    "import pandas as pd\n",
    "import re\n",
    "from sklearn.feature_extraction.text import CountVectorizer\n",
    "from sklearn.feature_extraction.text import TfidfTransformer\n",
    "from sklearn.model_selection import train_test_split\n",
    "from sklearn.linear_model import LogisticRegression\n",
    "from sklearn.externals import joblib\n",
    "\n",
    "from sklearn.pipeline import Pipeline, FeatureUnion\n",
    "\n",
    "from pipeline.text_cleaner import TextCleaner\n",
    "from pipeline.stemmer import Stemmer\n",
    "from pipeline.dataframe_vectorizer import DataframeVectorizer\n",
    "\n",
    "from utils import load_and_split, other_name, load_dumped\n",
    "\n",
    "from sklearn import metrics\n",
    "import pickle"
   ]
  },
  {
   "cell_type": "code",
   "execution_count": 75,
   "metadata": {
    "collapsed": true
   },
   "outputs": [],
   "source": [
    "def calculate_performance(trained, testing, X, y):\n",
    "    X_processed = DataPipeline.transform(X)\n",
    "    predicted = LearningPipeline.predict(X_processed)\n",
    "    print('Performance %s on %s' % (trained, testing))\n",
    "    print(metrics.classification_report(y, predicted))\n",
    "    print('Accuracy: ', metrics.accuracy_score(y, predicted))\n",
    "    return metrics.f1_score(y, predicted)"
   ]
  },
  {
   "cell_type": "code",
   "execution_count": 71,
   "metadata": {
    "collapsed": true
   },
   "outputs": [],
   "source": [
    "def calculate_stats(trained, testing):\n",
    "    X_train, X_test, y_train, y_test = load_and_split(testing)\n",
    "    calculate_performance(trained, testing, X_test, y_test)\n",
    "    "
   ]
  },
  {
   "cell_type": "code",
   "execution_count": 72,
   "metadata": {
    "collapsed": false
   },
   "outputs": [],
   "source": [
    "def perform(name):\n",
    "    global DataPipeline\n",
    "    global LearningPipeline\n",
    "    with open('dumps/%s__data.bin'% name, 'rb')  as f:\n",
    "        DataPipeline = pickle.load(f)\n",
    "    with open('dumps/%s__learn.bin' % name, 'rb')  as f:\n",
    "        LearningPipeline = pickle.load(f)\n",
    "    calculate_stats(name, name)\n",
    "    calculate_stats(name, other_name(name))\n",
    "    \n",
    "    "
   ]
  },
  {
   "cell_type": "code",
   "execution_count": 77,
   "metadata": {
    "collapsed": false
   },
   "outputs": [
    {
     "name": "stdout",
     "output_type": "stream",
     "text": [
      "Performance imdb_small on imdb_small\n",
      "             precision    recall  f1-score   support\n",
      "\n",
      "          0       0.89      0.88      0.89      5000\n",
      "          1       0.88      0.89      0.89      5000\n",
      "\n",
      "avg / total       0.89      0.89      0.89     10000\n",
      "\n",
      "Accuracy:  0.8861\n",
      "Performance imdb_small on reviews_rt_all\n",
      "             precision    recall  f1-score   support\n",
      "\n",
      "          0       0.60      0.63      0.61      7590\n",
      "          1       0.78      0.75      0.76     12932\n",
      "\n",
      "avg / total       0.71      0.71      0.71     20522\n",
      "\n",
      "Accuracy:  0.706217717571\n"
     ]
    }
   ],
   "source": [
    "perform('imdb_small')"
   ]
  },
  {
   "cell_type": "code",
   "execution_count": 76,
   "metadata": {
    "collapsed": false
   },
   "outputs": [
    {
     "name": "stdout",
     "output_type": "stream",
     "text": [
      "Performance reviews_rt_all on reviews_rt_all\n",
      "             precision    recall  f1-score   support\n",
      "\n",
      "          0       0.73      0.66      0.69      7590\n",
      "          1       0.81      0.86      0.83     12932\n",
      "\n",
      "avg / total       0.78      0.79      0.78     20522\n",
      "\n",
      "Accuracy:  0.785108663873\n",
      "Performance reviews_rt_all on imdb_small\n",
      "             precision    recall  f1-score   support\n",
      "\n",
      "          0       0.80      0.91      0.85      5000\n",
      "          1       0.89      0.78      0.83      5000\n",
      "\n",
      "avg / total       0.85      0.84      0.84     10000\n",
      "\n",
      "Accuracy:  0.8418\n"
     ]
    }
   ],
   "source": [
    "perform('reviews_rt_all')"
   ]
  },
  {
   "cell_type": "code",
   "execution_count": 78,
   "metadata": {
    "collapsed": false
   },
   "outputs": [
    {
     "data": {
      "text/plain": [
       "[0.785108663873, 0.8418, 0.8861, 0.706217717571]"
      ]
     },
     "execution_count": 78,
     "metadata": {},
     "output_type": "execute_result"
    }
   ],
   "source": [
    "[0.785108663873, 0.8418, 0.8861, 0.706217717571]"
   ]
  },
  {
   "cell_type": "code",
   "execution_count": null,
   "metadata": {
    "collapsed": true
   },
   "outputs": [],
   "source": []
  }
 ],
 "metadata": {
  "kernelspec": {
   "display_name": "Python 3",
   "language": "python",
   "name": "python3"
  },
  "language_info": {
   "codemirror_mode": {
    "name": "ipython",
    "version": 3
   },
   "file_extension": ".py",
   "mimetype": "text/x-python",
   "name": "python",
   "nbconvert_exporter": "python",
   "pygments_lexer": "ipython3",
   "version": "3.6.0"
  }
 },
 "nbformat": 4,
 "nbformat_minor": 2
}
